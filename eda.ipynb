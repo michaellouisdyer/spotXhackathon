{
 "cells": [
  {
   "cell_type": "code",
   "execution_count": 1,
   "metadata": {},
   "outputs": [
    {
     "data": {
      "text/html": [
       "<style>.container { width:100% !important; }</style>"
      ],
      "text/plain": [
       "<IPython.core.display.HTML object>"
      ]
     },
     "execution_count": 1,
     "metadata": {},
     "output_type": "execute_result"
    }
   ],
   "source": [
    "import pandas as pd\n",
    "import numpy as np\n",
    "import matplotlib.pyplot as plt\n",
    "plt.rcParams[\"patch.force_edgecolor\"] = True\n",
    "plt.rcParams['axes.titlesize'] = 22\n",
    "plt.rcParams['axes.labelsize'] = 16\n",
    "plt.rcParams['xtick.labelsize'] = 12\n",
    "plt.rcParams['ytick.labelsize'] = 12\n",
    "plt.style.use(['seaborn-darkgrid', 'seaborn-deep'])\n",
    "plt.rcParams[\"patch.force_edgecolor\"] = True\n",
    "%matplotlib inline\n",
    "\n",
    "\n",
    "from IPython.core.display import HTML\n",
    "HTML(\"<style>.container { width:100% !important; }</style>\")"
   ]
  },
  {
   "cell_type": "code",
   "execution_count": 2,
   "metadata": {},
   "outputs": [],
   "source": [
    "df = pd.read_csv('zoning_for_farmers_markets.csv')"
   ]
  },
  {
   "cell_type": "code",
   "execution_count": 3,
   "metadata": {},
   "outputs": [
    {
     "data": {
      "text/html": [
       "<div>\n",
       "<style scoped>\n",
       "    .dataframe tbody tr th:only-of-type {\n",
       "        vertical-align: middle;\n",
       "    }\n",
       "\n",
       "    .dataframe tbody tr th {\n",
       "        vertical-align: top;\n",
       "    }\n",
       "\n",
       "    .dataframe thead th {\n",
       "        text-align: right;\n",
       "    }\n",
       "</style>\n",
       "<table border=\"1\" class=\"dataframe\">\n",
       "  <thead>\n",
       "    <tr style=\"text-align: right;\">\n",
       "      <th></th>\n",
       "      <th>ZCODE_VERSION</th>\n",
       "      <th>ZONE_DESCRIPTION</th>\n",
       "      <th>NBHD_CONTEXT</th>\n",
       "      <th>ZONE_DISTRICT_GROUP</th>\n",
       "      <th>ZONE_USE_FORM</th>\n",
       "      <th>ZONE_DISTRICT</th>\n",
       "      <th>ZONE_DIST_TYPE</th>\n",
       "      <th>OVERLAY_DISTRICT</th>\n",
       "      <th>WAIVERS</th>\n",
       "      <th>CONDITIONS</th>\n",
       "      <th>PUD_NUM</th>\n",
       "      <th>PUD_STD_ZONE_DIST</th>\n",
       "      <th>ORD_NUM</th>\n",
       "      <th>ORD_YEAR</th>\n",
       "      <th>PBG</th>\n",
       "      <th>NOTES</th>\n",
       "      <th>GIS_NOTE</th>\n",
       "      <th>PUD_DOCUMENT</th>\n",
       "      <th>GLOBALID</th>\n",
       "    </tr>\n",
       "  </thead>\n",
       "  <tbody>\n",
       "    <tr>\n",
       "      <th>0</th>\n",
       "      <td>2010</td>\n",
       "      <td>Commercial Corridor  (CC)</td>\n",
       "      <td>SUBURBAN</td>\n",
       "      <td>S-CC</td>\n",
       "      <td>CC</td>\n",
       "      <td>S-CC-3X</td>\n",
       "      <td>Commercial Mixed Use</td>\n",
       "      <td>NaN</td>\n",
       "      <td>NaN</td>\n",
       "      <td>NaN</td>\n",
       "      <td>NaN</td>\n",
       "      <td>NaN</td>\n",
       "      <td>333</td>\n",
       "      <td>2010</td>\n",
       "      <td>NaN</td>\n",
       "      <td>NaN</td>\n",
       "      <td>NaN</td>\n",
       "      <td>NaN</td>\n",
       "      <td>{00000000-0000-0000-0000-000000000000}</td>\n",
       "    </tr>\n",
       "    <tr>\n",
       "      <th>1</th>\n",
       "      <td>2010</td>\n",
       "      <td>Main Street  (MS)</td>\n",
       "      <td>URBAN</td>\n",
       "      <td>U-MS</td>\n",
       "      <td>MS</td>\n",
       "      <td>U-MS-2</td>\n",
       "      <td>Commercial Mixed Use</td>\n",
       "      <td>NaN</td>\n",
       "      <td>NaN</td>\n",
       "      <td>NaN</td>\n",
       "      <td>NaN</td>\n",
       "      <td>NaN</td>\n",
       "      <td>333</td>\n",
       "      <td>2010</td>\n",
       "      <td>NaN</td>\n",
       "      <td>NaN</td>\n",
       "      <td>NaN</td>\n",
       "      <td>NaN</td>\n",
       "      <td>{00000000-0000-0000-0000-000000000000}</td>\n",
       "    </tr>\n",
       "    <tr>\n",
       "      <th>2</th>\n",
       "      <td>2010</td>\n",
       "      <td>Main Street  (MS)</td>\n",
       "      <td>URBAN EDGE</td>\n",
       "      <td>E-MS</td>\n",
       "      <td>MS</td>\n",
       "      <td>E-MS-3</td>\n",
       "      <td>Commercial Mixed Use</td>\n",
       "      <td>NaN</td>\n",
       "      <td>NaN</td>\n",
       "      <td>NaN</td>\n",
       "      <td>NaN</td>\n",
       "      <td>NaN</td>\n",
       "      <td>333</td>\n",
       "      <td>2010</td>\n",
       "      <td>NaN</td>\n",
       "      <td>NaN</td>\n",
       "      <td>NaN</td>\n",
       "      <td>NaN</td>\n",
       "      <td>{00000000-0000-0000-0000-000000000000}</td>\n",
       "    </tr>\n",
       "    <tr>\n",
       "      <th>3</th>\n",
       "      <td>2010</td>\n",
       "      <td>Main Street  (MS)</td>\n",
       "      <td>URBAN EDGE</td>\n",
       "      <td>E-MS</td>\n",
       "      <td>MS</td>\n",
       "      <td>E-MS-3</td>\n",
       "      <td>Commercial Mixed Use</td>\n",
       "      <td>NaN</td>\n",
       "      <td>NaN</td>\n",
       "      <td>NaN</td>\n",
       "      <td>NaN</td>\n",
       "      <td>NaN</td>\n",
       "      <td>333</td>\n",
       "      <td>2010</td>\n",
       "      <td>NaN</td>\n",
       "      <td>NaN</td>\n",
       "      <td>NaN</td>\n",
       "      <td>NaN</td>\n",
       "      <td>{00000000-0000-0000-0000-000000000000}</td>\n",
       "    </tr>\n",
       "    <tr>\n",
       "      <th>4</th>\n",
       "      <td>2010</td>\n",
       "      <td>Main Street  (MS)</td>\n",
       "      <td>URBAN</td>\n",
       "      <td>U-MS</td>\n",
       "      <td>MS</td>\n",
       "      <td>U-MS-2</td>\n",
       "      <td>Commercial Mixed Use</td>\n",
       "      <td>NaN</td>\n",
       "      <td>NaN</td>\n",
       "      <td>NaN</td>\n",
       "      <td>NaN</td>\n",
       "      <td>NaN</td>\n",
       "      <td>333</td>\n",
       "      <td>2010</td>\n",
       "      <td>NaN</td>\n",
       "      <td>NaN</td>\n",
       "      <td>NaN</td>\n",
       "      <td>NaN</td>\n",
       "      <td>{00000000-0000-0000-0000-000000000000}</td>\n",
       "    </tr>\n",
       "  </tbody>\n",
       "</table>\n",
       "</div>"
      ],
      "text/plain": [
       "   ZCODE_VERSION           ZONE_DESCRIPTION NBHD_CONTEXT ZONE_DISTRICT_GROUP  \\\n",
       "0           2010  Commercial Corridor  (CC)     SUBURBAN                S-CC   \n",
       "1           2010          Main Street  (MS)        URBAN                U-MS   \n",
       "2           2010          Main Street  (MS)   URBAN EDGE                E-MS   \n",
       "3           2010          Main Street  (MS)   URBAN EDGE                E-MS   \n",
       "4           2010          Main Street  (MS)        URBAN                U-MS   \n",
       "\n",
       "  ZONE_USE_FORM ZONE_DISTRICT        ZONE_DIST_TYPE OVERLAY_DISTRICT WAIVERS  \\\n",
       "0            CC       S-CC-3X  Commercial Mixed Use              NaN     NaN   \n",
       "1            MS        U-MS-2  Commercial Mixed Use              NaN     NaN   \n",
       "2            MS        E-MS-3  Commercial Mixed Use              NaN     NaN   \n",
       "3            MS        E-MS-3  Commercial Mixed Use              NaN     NaN   \n",
       "4            MS        U-MS-2  Commercial Mixed Use              NaN     NaN   \n",
       "\n",
       "  CONDITIONS  PUD_NUM  PUD_STD_ZONE_DIST  ORD_NUM  ORD_YEAR  PBG NOTES  \\\n",
       "0        NaN      NaN                NaN      333      2010  NaN   NaN   \n",
       "1        NaN      NaN                NaN      333      2010  NaN   NaN   \n",
       "2        NaN      NaN                NaN      333      2010  NaN   NaN   \n",
       "3        NaN      NaN                NaN      333      2010  NaN   NaN   \n",
       "4        NaN      NaN                NaN      333      2010  NaN   NaN   \n",
       "\n",
       "  GIS_NOTE  PUD_DOCUMENT                                GLOBALID  \n",
       "0      NaN           NaN  {00000000-0000-0000-0000-000000000000}  \n",
       "1      NaN           NaN  {00000000-0000-0000-0000-000000000000}  \n",
       "2      NaN           NaN  {00000000-0000-0000-0000-000000000000}  \n",
       "3      NaN           NaN  {00000000-0000-0000-0000-000000000000}  \n",
       "4      NaN           NaN  {00000000-0000-0000-0000-000000000000}  "
      ]
     },
     "execution_count": 3,
     "metadata": {},
     "output_type": "execute_result"
    }
   ],
   "source": [
    "df.head()"
   ]
  },
  {
   "cell_type": "code",
   "execution_count": 4,
   "metadata": {},
   "outputs": [
    {
     "name": "stdout",
     "output_type": "stream",
     "text": [
      "<class 'pandas.core.frame.DataFrame'>\n",
      "RangeIndex: 1255 entries, 0 to 1254\n",
      "Data columns (total 19 columns):\n",
      "ZCODE_VERSION          1255 non-null int64\n",
      "ZONE_DESCRIPTION       1255 non-null object\n",
      "NBHD_CONTEXT           1245 non-null object\n",
      "ZONE_DISTRICT_GROUP    1255 non-null object\n",
      "ZONE_USE_FORM          1043 non-null object\n",
      "ZONE_DISTRICT          1255 non-null object\n",
      "ZONE_DIST_TYPE         1255 non-null object\n",
      "OVERLAY_DISTRICT       356 non-null object\n",
      "WAIVERS                8 non-null object\n",
      "CONDITIONS             3 non-null object\n",
      "PUD_NUM                0 non-null float64\n",
      "PUD_STD_ZONE_DIST      0 non-null float64\n",
      "ORD_NUM                1255 non-null int64\n",
      "ORD_YEAR               1255 non-null int64\n",
      "PBG                    6 non-null object\n",
      "NOTES                  89 non-null object\n",
      "GIS_NOTE               36 non-null object\n",
      "PUD_DOCUMENT           0 non-null float64\n",
      "GLOBALID               1255 non-null object\n",
      "dtypes: float64(3), int64(3), object(13)\n",
      "memory usage: 186.4+ KB\n"
     ]
    }
   ],
   "source": [
    "df.info()"
   ]
  },
  {
   "cell_type": "code",
   "execution_count": 7,
   "metadata": {},
   "outputs": [
    {
     "data": {
      "text/plain": [
       "ZCODE_VERSION            2\n",
       "ZONE_DESCRIPTION        14\n",
       "NBHD_CONTEXT            11\n",
       "ZONE_DISTRICT_GROUP     24\n",
       "ZONE_USE_FORM            5\n",
       "ZONE_DISTRICT           75\n",
       "ZONE_DIST_TYPE           5\n",
       "OVERLAY_DISTRICT         9\n",
       "WAIVERS                  1\n",
       "CONDITIONS               1\n",
       "PUD_NUM                  0\n",
       "PUD_STD_ZONE_DIST        0\n",
       "ORD_NUM                108\n",
       "ORD_YEAR                15\n",
       "PBG                      1\n",
       "NOTES                    9\n",
       "GIS_NOTE                25\n",
       "PUD_DOCUMENT             0\n",
       "GLOBALID                 1\n",
       "dtype: int64"
      ]
     },
     "execution_count": 7,
     "metadata": {},
     "output_type": "execute_result"
    }
   ],
   "source": [
    "df.nunique()"
   ]
  },
  {
   "cell_type": "code",
   "execution_count": 8,
   "metadata": {},
   "outputs": [],
   "source": [
    "add = pd.read_csv('addresses.csv')"
   ]
  },
  {
   "cell_type": "code",
   "execution_count": 9,
   "metadata": {},
   "outputs": [
    {
     "data": {
      "text/html": [
       "<div>\n",
       "<style scoped>\n",
       "    .dataframe tbody tr th:only-of-type {\n",
       "        vertical-align: middle;\n",
       "    }\n",
       "\n",
       "    .dataframe tbody tr th {\n",
       "        vertical-align: top;\n",
       "    }\n",
       "\n",
       "    .dataframe thead th {\n",
       "        text-align: right;\n",
       "    }\n",
       "</style>\n",
       "<table border=\"1\" class=\"dataframe\">\n",
       "  <thead>\n",
       "    <tr style=\"text-align: right;\">\n",
       "      <th></th>\n",
       "      <th>ADDRESS_TYPE</th>\n",
       "      <th>X_COORD</th>\n",
       "      <th>Y_COORD</th>\n",
       "      <th>LATITUDE</th>\n",
       "      <th>LONGITUDE</th>\n",
       "      <th>ADDRESS_NUMBER_PREFIX</th>\n",
       "      <th>ADDRESS_NUMBER</th>\n",
       "      <th>ADDRESS_NUMBER_SUFFIX</th>\n",
       "      <th>PREMODIFIER</th>\n",
       "      <th>PREDIRECTIONAL</th>\n",
       "      <th>...</th>\n",
       "      <th>POSTTYPE</th>\n",
       "      <th>POSTDIRECTIONAL</th>\n",
       "      <th>POSTMODIFIER</th>\n",
       "      <th>BUILDING_TYPE</th>\n",
       "      <th>BUILDING_IDENTIFIER</th>\n",
       "      <th>UNIT_TYPE</th>\n",
       "      <th>UNIT_IDENTIFIER</th>\n",
       "      <th>COMPOSITE_UNIT_TYPE</th>\n",
       "      <th>COMPOSIT_UNIT_IDENTIFIER</th>\n",
       "      <th>FULL_ADDRESS</th>\n",
       "    </tr>\n",
       "  </thead>\n",
       "  <tbody>\n",
       "    <tr>\n",
       "      <th>0</th>\n",
       "      <td>S</td>\n",
       "      <td>3145360.0</td>\n",
       "      <td>1693366.0</td>\n",
       "      <td>39.735960</td>\n",
       "      <td>-104.983142</td>\n",
       "      <td>None</td>\n",
       "      <td>1200.0</td>\n",
       "      <td>None</td>\n",
       "      <td>None</td>\n",
       "      <td>N</td>\n",
       "      <td>...</td>\n",
       "      <td>St</td>\n",
       "      <td>None</td>\n",
       "      <td>None</td>\n",
       "      <td>None</td>\n",
       "      <td>None</td>\n",
       "      <td>Unit</td>\n",
       "      <td>830</td>\n",
       "      <td>Unit</td>\n",
       "      <td>830</td>\n",
       "      <td>1200 N Grant St Unit 830</td>\n",
       "    </tr>\n",
       "    <tr>\n",
       "      <th>1</th>\n",
       "      <td>S</td>\n",
       "      <td>3145326.0</td>\n",
       "      <td>1693177.0</td>\n",
       "      <td>39.735441</td>\n",
       "      <td>-104.983265</td>\n",
       "      <td>None</td>\n",
       "      <td>1200.0</td>\n",
       "      <td>None</td>\n",
       "      <td>None</td>\n",
       "      <td>N</td>\n",
       "      <td>...</td>\n",
       "      <td>St</td>\n",
       "      <td>None</td>\n",
       "      <td>None</td>\n",
       "      <td>None</td>\n",
       "      <td>None</td>\n",
       "      <td>Unit</td>\n",
       "      <td>202</td>\n",
       "      <td>Unit</td>\n",
       "      <td>202</td>\n",
       "      <td>1200 N Grant St Unit 202</td>\n",
       "    </tr>\n",
       "    <tr>\n",
       "      <th>2</th>\n",
       "      <td>S</td>\n",
       "      <td>3145359.0</td>\n",
       "      <td>1693227.0</td>\n",
       "      <td>39.735576</td>\n",
       "      <td>-104.983148</td>\n",
       "      <td>None</td>\n",
       "      <td>1200.0</td>\n",
       "      <td>None</td>\n",
       "      <td>None</td>\n",
       "      <td>N</td>\n",
       "      <td>...</td>\n",
       "      <td>St</td>\n",
       "      <td>None</td>\n",
       "      <td>None</td>\n",
       "      <td>None</td>\n",
       "      <td>None</td>\n",
       "      <td>Unit</td>\n",
       "      <td>813</td>\n",
       "      <td>Unit</td>\n",
       "      <td>813</td>\n",
       "      <td>1200 N Grant St Unit 813</td>\n",
       "    </tr>\n",
       "    <tr>\n",
       "      <th>3</th>\n",
       "      <td>S</td>\n",
       "      <td>3145363.0</td>\n",
       "      <td>1693362.0</td>\n",
       "      <td>39.735949</td>\n",
       "      <td>-104.983130</td>\n",
       "      <td>None</td>\n",
       "      <td>1200.0</td>\n",
       "      <td>None</td>\n",
       "      <td>None</td>\n",
       "      <td>N</td>\n",
       "      <td>...</td>\n",
       "      <td>St</td>\n",
       "      <td>None</td>\n",
       "      <td>None</td>\n",
       "      <td>None</td>\n",
       "      <td>None</td>\n",
       "      <td>Unit</td>\n",
       "      <td>828</td>\n",
       "      <td>Unit</td>\n",
       "      <td>828</td>\n",
       "      <td>1200 N Grant St Unit 828</td>\n",
       "    </tr>\n",
       "    <tr>\n",
       "      <th>4</th>\n",
       "      <td>S</td>\n",
       "      <td>3145366.0</td>\n",
       "      <td>1693212.0</td>\n",
       "      <td>39.735535</td>\n",
       "      <td>-104.983121</td>\n",
       "      <td>None</td>\n",
       "      <td>1200.0</td>\n",
       "      <td>None</td>\n",
       "      <td>None</td>\n",
       "      <td>N</td>\n",
       "      <td>...</td>\n",
       "      <td>St</td>\n",
       "      <td>None</td>\n",
       "      <td>None</td>\n",
       "      <td>None</td>\n",
       "      <td>None</td>\n",
       "      <td>Unit</td>\n",
       "      <td>512</td>\n",
       "      <td>Unit</td>\n",
       "      <td>512</td>\n",
       "      <td>1200 N Grant St Unit 512</td>\n",
       "    </tr>\n",
       "  </tbody>\n",
       "</table>\n",
       "<p>5 rows × 21 columns</p>\n",
       "</div>"
      ],
      "text/plain": [
       "  ADDRESS_TYPE    X_COORD    Y_COORD   LATITUDE   LONGITUDE  \\\n",
       "0            S  3145360.0  1693366.0  39.735960 -104.983142   \n",
       "1            S  3145326.0  1693177.0  39.735441 -104.983265   \n",
       "2            S  3145359.0  1693227.0  39.735576 -104.983148   \n",
       "3            S  3145363.0  1693362.0  39.735949 -104.983130   \n",
       "4            S  3145366.0  1693212.0  39.735535 -104.983121   \n",
       "\n",
       "  ADDRESS_NUMBER_PREFIX  ADDRESS_NUMBER ADDRESS_NUMBER_SUFFIX PREMODIFIER  \\\n",
       "0                  None          1200.0                  None        None   \n",
       "1                  None          1200.0                  None        None   \n",
       "2                  None          1200.0                  None        None   \n",
       "3                  None          1200.0                  None        None   \n",
       "4                  None          1200.0                  None        None   \n",
       "\n",
       "  PREDIRECTIONAL            ...            POSTTYPE POSTDIRECTIONAL  \\\n",
       "0              N            ...                  St            None   \n",
       "1              N            ...                  St            None   \n",
       "2              N            ...                  St            None   \n",
       "3              N            ...                  St            None   \n",
       "4              N            ...                  St            None   \n",
       "\n",
       "  POSTMODIFIER BUILDING_TYPE BUILDING_IDENTIFIER UNIT_TYPE UNIT_IDENTIFIER  \\\n",
       "0         None          None                None      Unit             830   \n",
       "1         None          None                None      Unit             202   \n",
       "2         None          None                None      Unit             813   \n",
       "3         None          None                None      Unit             828   \n",
       "4         None          None                None      Unit             512   \n",
       "\n",
       "  COMPOSITE_UNIT_TYPE COMPOSIT_UNIT_IDENTIFIER              FULL_ADDRESS  \n",
       "0                Unit                      830  1200 N Grant St Unit 830  \n",
       "1                Unit                      202  1200 N Grant St Unit 202  \n",
       "2                Unit                      813  1200 N Grant St Unit 813  \n",
       "3                Unit                      828  1200 N Grant St Unit 828  \n",
       "4                Unit                      512  1200 N Grant St Unit 512  \n",
       "\n",
       "[5 rows x 21 columns]"
      ]
     },
     "execution_count": 9,
     "metadata": {},
     "output_type": "execute_result"
    }
   ],
   "source": [
    "add.head()"
   ]
  },
  {
   "cell_type": "code",
   "execution_count": 10,
   "metadata": {},
   "outputs": [
    {
     "name": "stdout",
     "output_type": "stream",
     "text": [
      "<class 'pandas.core.frame.DataFrame'>\n",
      "RangeIndex: 315394 entries, 0 to 315393\n",
      "Data columns (total 21 columns):\n",
      "ADDRESS_TYPE                315394 non-null object\n",
      "X_COORD                     315394 non-null float64\n",
      "Y_COORD                     315394 non-null float64\n",
      "LATITUDE                    315394 non-null float64\n",
      "LONGITUDE                   315394 non-null float64\n",
      "ADDRESS_NUMBER_PREFIX       315394 non-null object\n",
      "ADDRESS_NUMBER              315394 non-null float64\n",
      "ADDRESS_NUMBER_SUFFIX       315394 non-null object\n",
      "PREMODIFIER                 315394 non-null object\n",
      "PREDIRECTIONAL              315394 non-null object\n",
      "STREET_NAME                 315394 non-null object\n",
      "POSTTYPE                    315394 non-null object\n",
      "POSTDIRECTIONAL             315394 non-null object\n",
      "POSTMODIFIER                315394 non-null object\n",
      "BUILDING_TYPE               315394 non-null object\n",
      "BUILDING_IDENTIFIER         315394 non-null object\n",
      "UNIT_TYPE                   315394 non-null object\n",
      "UNIT_IDENTIFIER             315394 non-null object\n",
      "COMPOSITE_UNIT_TYPE         315394 non-null object\n",
      "COMPOSIT_UNIT_IDENTIFIER    315394 non-null object\n",
      "FULL_ADDRESS                315394 non-null object\n",
      "dtypes: float64(5), object(16)\n",
      "memory usage: 50.5+ MB\n"
     ]
    }
   ],
   "source": [
    "add.info()"
   ]
  },
  {
   "cell_type": "code",
   "execution_count": 11,
   "metadata": {},
   "outputs": [
    {
     "data": {
      "text/plain": [
       "array(['None', '1/2', '11420', ' 2', 'REAR', 'B', 'A', 'VCNT', 'vcnt',\n",
       "       'CA'], dtype=object)"
      ]
     },
     "execution_count": 11,
     "metadata": {},
     "output_type": "execute_result"
    }
   ],
   "source": [
    "add.ADDRESS_NUMBER_SUFFIX.unique()"
   ]
  },
  {
   "cell_type": "code",
   "execution_count": 16,
   "metadata": {},
   "outputs": [
    {
     "data": {
      "text/plain": [
       "array(['N', 'E', 'W', 'S', 'None'], dtype=object)"
      ]
     },
     "execution_count": 16,
     "metadata": {},
     "output_type": "execute_result"
    }
   ],
   "source": [
    "add.PREDIRECTIONAL.unique()"
   ]
  },
  {
   "cell_type": "code",
   "execution_count": 12,
   "metadata": {},
   "outputs": [
    {
     "data": {
      "text/plain": [
       "Index(['ADDRESS_TYPE', 'X_COORD', 'Y_COORD', 'LATITUDE', 'LONGITUDE',\n",
       "       'ADDRESS_NUMBER_PREFIX', 'ADDRESS_NUMBER', 'ADDRESS_NUMBER_SUFFIX',\n",
       "       'PREMODIFIER', 'PREDIRECTIONAL', 'STREET_NAME', 'POSTTYPE',\n",
       "       'POSTDIRECTIONAL', 'POSTMODIFIER', 'BUILDING_TYPE',\n",
       "       'BUILDING_IDENTIFIER', 'UNIT_TYPE', 'UNIT_IDENTIFIER',\n",
       "       'COMPOSITE_UNIT_TYPE', 'COMPOSIT_UNIT_IDENTIFIER', 'FULL_ADDRESS'],\n",
       "      dtype='object')"
      ]
     },
     "execution_count": 12,
     "metadata": {},
     "output_type": "execute_result"
    }
   ],
   "source": []
  },
  {
   "cell_type": "code",
   "execution_count": 33,
   "metadata": {},
   "outputs": [],
   "source": [
    "cols = ['ADDRESS_NUMBER_PREFIX', 'ADDRESS_NUMBER', 'ADDRESS_NUMBER_SUFFIX','PREMODIFIER', 'PREDIRECTIONAL', 'STREET_NAME', 'POSTTYPE','POSTDIRECTIONAL', 'POSTMODIFIER', 'BUILDING_TYPE','BUILDING_IDENTIFIER', 'UNIT_TYPE']"
   ]
  },
  {
   "cell_type": "code",
   "execution_count": 34,
   "metadata": {},
   "outputs": [],
   "source": [
    "add2 = add[cols]"
   ]
  },
  {
   "cell_type": "code",
   "execution_count": 35,
   "metadata": {},
   "outputs": [
    {
     "ename": "TypeError",
     "evalue": "first argument must be an iterable of pandas objects, you passed an object of type \"DataFrame\"",
     "output_type": "error",
     "traceback": [
      "\u001b[0;31m---------------------------------------------------------------------------\u001b[0m",
      "\u001b[0;31mTypeError\u001b[0m                                 Traceback (most recent call last)",
      "\u001b[0;32m<ipython-input-35-b7cb3030e4ac>\u001b[0m in \u001b[0;36m<module>\u001b[0;34m()\u001b[0m\n\u001b[0;32m----> 1\u001b[0;31m \u001b[0mpd\u001b[0m\u001b[0;34m.\u001b[0m\u001b[0mconcat\u001b[0m\u001b[0;34m(\u001b[0m\u001b[0madd2\u001b[0m\u001b[0;34m)\u001b[0m\u001b[0;34m\u001b[0m\u001b[0m\n\u001b[0m",
      "\u001b[0;32m~/anaconda3/lib/python3.6/site-packages/pandas/core/reshape/concat.py\u001b[0m in \u001b[0;36mconcat\u001b[0;34m(objs, axis, join, join_axes, ignore_index, keys, levels, names, verify_integrity, sort, copy)\u001b[0m\n\u001b[1;32m    223\u001b[0m                        \u001b[0mkeys\u001b[0m\u001b[0;34m=\u001b[0m\u001b[0mkeys\u001b[0m\u001b[0;34m,\u001b[0m \u001b[0mlevels\u001b[0m\u001b[0;34m=\u001b[0m\u001b[0mlevels\u001b[0m\u001b[0;34m,\u001b[0m \u001b[0mnames\u001b[0m\u001b[0;34m=\u001b[0m\u001b[0mnames\u001b[0m\u001b[0;34m,\u001b[0m\u001b[0;34m\u001b[0m\u001b[0m\n\u001b[1;32m    224\u001b[0m                        \u001b[0mverify_integrity\u001b[0m\u001b[0;34m=\u001b[0m\u001b[0mverify_integrity\u001b[0m\u001b[0;34m,\u001b[0m\u001b[0;34m\u001b[0m\u001b[0m\n\u001b[0;32m--> 225\u001b[0;31m                        copy=copy, sort=sort)\n\u001b[0m\u001b[1;32m    226\u001b[0m     \u001b[0;32mreturn\u001b[0m \u001b[0mop\u001b[0m\u001b[0;34m.\u001b[0m\u001b[0mget_result\u001b[0m\u001b[0;34m(\u001b[0m\u001b[0;34m)\u001b[0m\u001b[0;34m\u001b[0m\u001b[0m\n\u001b[1;32m    227\u001b[0m \u001b[0;34m\u001b[0m\u001b[0m\n",
      "\u001b[0;32m~/anaconda3/lib/python3.6/site-packages/pandas/core/reshape/concat.py\u001b[0m in \u001b[0;36m__init__\u001b[0;34m(self, objs, axis, join, join_axes, keys, levels, names, ignore_index, verify_integrity, copy, sort)\u001b[0m\n\u001b[1;32m    239\u001b[0m             raise TypeError('first argument must be an iterable of pandas '\n\u001b[1;32m    240\u001b[0m                             \u001b[0;34m'objects, you passed an object of type '\u001b[0m\u001b[0;34m\u001b[0m\u001b[0m\n\u001b[0;32m--> 241\u001b[0;31m                             '\"{name}\"'.format(name=type(objs).__name__))\n\u001b[0m\u001b[1;32m    242\u001b[0m \u001b[0;34m\u001b[0m\u001b[0m\n\u001b[1;32m    243\u001b[0m         \u001b[0;32mif\u001b[0m \u001b[0mjoin\u001b[0m \u001b[0;34m==\u001b[0m \u001b[0;34m'outer'\u001b[0m\u001b[0;34m:\u001b[0m\u001b[0;34m\u001b[0m\u001b[0m\n",
      "\u001b[0;31mTypeError\u001b[0m: first argument must be an iterable of pandas objects, you passed an object of type \"DataFrame\""
     ]
    }
   ],
   "source": [
    "pd.concat(add2)"
   ]
  },
  {
   "cell_type": "code",
   "execution_count": 36,
   "metadata": {},
   "outputs": [],
   "source": [
    "# df['period'] = df[['Year', 'quarter']].apply(lambda x: ''.join(x), axis=1)\n",
    "add['concat'] = add[cols].apply(lambda x: ' '.join(x.astype('str')), axis=1)"
   ]
  },
  {
   "cell_type": "code",
   "execution_count": 39,
   "metadata": {},
   "outputs": [
    {
     "data": {
      "text/plain": [
       "211698"
      ]
     },
     "execution_count": 39,
     "metadata": {},
     "output_type": "execute_result"
    }
   ],
   "source": [
    "add.concat.nunique()\n"
   ]
  },
  {
   "cell_type": "code",
   "execution_count": null,
   "metadata": {},
   "outputs": [],
   "source": []
  }
 ],
 "metadata": {
  "kernelspec": {
   "display_name": "Python 3",
   "language": "python",
   "name": "python3"
  },
  "language_info": {
   "codemirror_mode": {
    "name": "ipython",
    "version": 3
   },
   "file_extension": ".py",
   "mimetype": "text/x-python",
   "name": "python",
   "nbconvert_exporter": "python",
   "pygments_lexer": "ipython3",
   "version": "3.6.6"
  }
 },
 "nbformat": 4,
 "nbformat_minor": 2
}
