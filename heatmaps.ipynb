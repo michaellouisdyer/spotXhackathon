{
 "cells": [
  {
   "cell_type": "code",
   "execution_count": 1,
   "metadata": {},
   "outputs": [],
   "source": [
    "import gmaps\n",
    "import gmaps.datasets\n",
    "import os\n",
    "import pandas as pd\n",
    "import pickle\n",
    "gmaps.configure(api_key=os.environ[\"GOOGLE_API\"])\n",
    "df = pickle.load(open(\"long_lat_split_unique.pkl\", \"rb\"))\n",
    "addresses = pd.read_csv('addresses.csv')"
   ]
  },
  {
   "cell_type": "code",
   "execution_count": 2,
   "metadata": {},
   "outputs": [
    {
     "data": {
      "text/html": [
       "<div>\n",
       "<style scoped>\n",
       "    .dataframe tbody tr th:only-of-type {\n",
       "        vertical-align: middle;\n",
       "    }\n",
       "\n",
       "    .dataframe tbody tr th {\n",
       "        vertical-align: top;\n",
       "    }\n",
       "\n",
       "    .dataframe thead th {\n",
       "        text-align: right;\n",
       "    }\n",
       "</style>\n",
       "<table border=\"1\" class=\"dataframe\">\n",
       "  <thead>\n",
       "    <tr style=\"text-align: right;\">\n",
       "      <th></th>\n",
       "      <th>LATITUDE</th>\n",
       "      <th>LONGITUDE</th>\n",
       "    </tr>\n",
       "  </thead>\n",
       "  <tbody>\n",
       "    <tr>\n",
       "      <th>0</th>\n",
       "      <td>39.74</td>\n",
       "      <td>-104.98</td>\n",
       "    </tr>\n",
       "    <tr>\n",
       "      <th>1</th>\n",
       "      <td>39.74</td>\n",
       "      <td>-104.98</td>\n",
       "    </tr>\n",
       "    <tr>\n",
       "      <th>2</th>\n",
       "      <td>39.74</td>\n",
       "      <td>-104.98</td>\n",
       "    </tr>\n",
       "    <tr>\n",
       "      <th>3</th>\n",
       "      <td>39.74</td>\n",
       "      <td>-104.98</td>\n",
       "    </tr>\n",
       "    <tr>\n",
       "      <th>4</th>\n",
       "      <td>39.74</td>\n",
       "      <td>-104.98</td>\n",
       "    </tr>\n",
       "  </tbody>\n",
       "</table>\n",
       "</div>"
      ],
      "text/plain": [
       "   LATITUDE  LONGITUDE\n",
       "0     39.74    -104.98\n",
       "1     39.74    -104.98\n",
       "2     39.74    -104.98\n",
       "3     39.74    -104.98\n",
       "4     39.74    -104.98"
      ]
     },
     "execution_count": 2,
     "metadata": {},
     "output_type": "execute_result"
    }
   ],
   "source": [
    "df_lat_lon = addresses[['LATITUDE', 'LONGITUDE']]\n",
    "df_lat_lon_round = df_lat_lon.round(2)\n",
    "df_lat_lon_round.head()"
   ]
  },
  {
   "cell_type": "code",
   "execution_count": 3,
   "metadata": {},
   "outputs": [],
   "source": [
    "df_lat_lon_round['count'] = df_lat_lon_round.groupby(['LATITUDE', 'LONGITUDE'])['LATITUDE'].transform('count')"
   ]
  },
  {
   "cell_type": "code",
   "execution_count": 4,
   "metadata": {},
   "outputs": [],
   "source": [
    "df_new = df_lat_lon_round.drop_duplicates(inplace=False)"
   ]
  },
  {
   "cell_type": "code",
   "execution_count": 5,
   "metadata": {},
   "outputs": [
    {
     "name": "stdout",
     "output_type": "stream",
     "text": [
      "<class 'pandas.core.frame.DataFrame'>\n",
      "Int64Index: 482 entries, 0 to 287693\n",
      "Data columns (total 3 columns):\n",
      "LATITUDE     482 non-null float64\n",
      "LONGITUDE    482 non-null float64\n",
      "count        482 non-null int64\n",
      "dtypes: float64(2), int64(1)\n",
      "memory usage: 15.1 KB\n"
     ]
    }
   ],
   "source": [
    "df_new.info()"
   ]
  },
  {
   "cell_type": "code",
   "execution_count": 6,
   "metadata": {},
   "outputs": [],
   "source": [
    "df_new = df_new[['LATITUDE', 'LONGITUDE']]"
   ]
  },
  {
   "cell_type": "code",
   "execution_count": 7,
   "metadata": {},
   "outputs": [
    {
     "data": {
      "application/vnd.jupyter.widget-view+json": {
       "model_id": "e375e6996aaf45ac8b09db62b7522c8d",
       "version_major": 2,
       "version_minor": 0
      },
      "text/plain": [
       "Figure(layout=FigureLayout(height='420px'))"
      ]
     },
     "metadata": {},
     "output_type": "display_data"
    }
   ],
   "source": [
    "new_fig = gmaps.symbol_layer(df_new, fill_color='rgba(0, 150, 0, 0.4)',\n",
    "    stroke_color='rgba(0, 150, 0, 0.4)', scale=2\n",
    ")\n",
    "fig = gmaps.figure()\n",
    "fig.add_layer(new_fig)\n",
    "fig"
   ]
  },
  {
   "cell_type": "code",
   "execution_count": 8,
   "metadata": {},
   "outputs": [],
   "source": [
    "df = df.round(2)"
   ]
  },
  {
   "cell_type": "code",
   "execution_count": 9,
   "metadata": {},
   "outputs": [],
   "source": [
    "df['count'] = df.groupby(['LATITUDE', 'LONGITUDE'])['LATITUDE'].transform('count')"
   ]
  },
  {
   "cell_type": "code",
   "execution_count": 10,
   "metadata": {},
   "outputs": [
    {
     "data": {
      "text/html": [
       "<div>\n",
       "<style scoped>\n",
       "    .dataframe tbody tr th:only-of-type {\n",
       "        vertical-align: middle;\n",
       "    }\n",
       "\n",
       "    .dataframe tbody tr th {\n",
       "        vertical-align: top;\n",
       "    }\n",
       "\n",
       "    .dataframe thead th {\n",
       "        text-align: right;\n",
       "    }\n",
       "</style>\n",
       "<table border=\"1\" class=\"dataframe\">\n",
       "  <thead>\n",
       "    <tr style=\"text-align: right;\">\n",
       "      <th></th>\n",
       "      <th>LATITUDE</th>\n",
       "      <th>LONGITUDE</th>\n",
       "      <th>count</th>\n",
       "    </tr>\n",
       "  </thead>\n",
       "  <tbody>\n",
       "    <tr>\n",
       "      <th>0</th>\n",
       "      <td>39.74</td>\n",
       "      <td>-104.98</td>\n",
       "      <td>2952</td>\n",
       "    </tr>\n",
       "    <tr>\n",
       "      <th>1</th>\n",
       "      <td>39.74</td>\n",
       "      <td>-104.98</td>\n",
       "      <td>2952</td>\n",
       "    </tr>\n",
       "    <tr>\n",
       "      <th>2</th>\n",
       "      <td>39.74</td>\n",
       "      <td>-104.98</td>\n",
       "      <td>2952</td>\n",
       "    </tr>\n",
       "    <tr>\n",
       "      <th>3</th>\n",
       "      <td>39.74</td>\n",
       "      <td>-104.98</td>\n",
       "      <td>2952</td>\n",
       "    </tr>\n",
       "    <tr>\n",
       "      <th>4</th>\n",
       "      <td>39.74</td>\n",
       "      <td>-104.98</td>\n",
       "      <td>2952</td>\n",
       "    </tr>\n",
       "  </tbody>\n",
       "</table>\n",
       "</div>"
      ],
      "text/plain": [
       "   LATITUDE  LONGITUDE  count\n",
       "0     39.74    -104.98   2952\n",
       "1     39.74    -104.98   2952\n",
       "2     39.74    -104.98   2952\n",
       "3     39.74    -104.98   2952\n",
       "4     39.74    -104.98   2952"
      ]
     },
     "execution_count": 10,
     "metadata": {},
     "output_type": "execute_result"
    }
   ],
   "source": [
    "df.head()"
   ]
  },
  {
   "cell_type": "code",
   "execution_count": 13,
   "metadata": {},
   "outputs": [],
   "source": [
    "top = pd.read_csv('data/top_farmers_zoned.csv')"
   ]
  },
  {
   "cell_type": "code",
   "execution_count": 14,
   "metadata": {},
   "outputs": [
    {
     "name": "stdout",
     "output_type": "stream",
     "text": [
      "<class 'pandas.core.frame.DataFrame'>\n",
      "RangeIndex: 83 entries, 0 to 82\n",
      "Data columns (total 6 columns):\n",
      "Unnamed: 0    83 non-null int64\n",
      "long_lat      83 non-null object\n",
      "population    83 non-null int64\n",
      "geo           83 non-null bool\n",
      "Long          83 non-null float64\n",
      "Lat           83 non-null float64\n",
      "dtypes: bool(1), float64(2), int64(2), object(1)\n",
      "memory usage: 3.4+ KB\n"
     ]
    }
   ],
   "source": [
    "top.info()"
   ]
  },
  {
   "cell_type": "code",
   "execution_count": 15,
   "metadata": {},
   "outputs": [
    {
     "data": {
      "text/plain": [
       "Index(['Unnamed: 0', 'long_lat', 'population', 'geo', 'Long', 'Lat'], dtype='object')"
      ]
     },
     "execution_count": 15,
     "metadata": {},
     "output_type": "execute_result"
    }
   ],
   "source": [
    "top.columns"
   ]
  },
  {
   "cell_type": "code",
   "execution_count": 16,
   "metadata": {},
   "outputs": [
    {
     "data": {
      "text/html": [
       "<div>\n",
       "<style scoped>\n",
       "    .dataframe tbody tr th:only-of-type {\n",
       "        vertical-align: middle;\n",
       "    }\n",
       "\n",
       "    .dataframe tbody tr th {\n",
       "        vertical-align: top;\n",
       "    }\n",
       "\n",
       "    .dataframe thead th {\n",
       "        text-align: right;\n",
       "    }\n",
       "</style>\n",
       "<table border=\"1\" class=\"dataframe\">\n",
       "  <thead>\n",
       "    <tr style=\"text-align: right;\">\n",
       "      <th></th>\n",
       "      <th>Unnamed: 0</th>\n",
       "      <th>long_lat</th>\n",
       "      <th>population</th>\n",
       "      <th>geo</th>\n",
       "      <th>Long</th>\n",
       "      <th>Lat</th>\n",
       "    </tr>\n",
       "  </thead>\n",
       "  <tbody>\n",
       "    <tr>\n",
       "      <th>0</th>\n",
       "      <td>1</td>\n",
       "      <td>(-104.997, 39.746)</td>\n",
       "      <td>841</td>\n",
       "      <td>True</td>\n",
       "      <td>-104.997</td>\n",
       "      <td>39.746</td>\n",
       "    </tr>\n",
       "    <tr>\n",
       "      <th>1</th>\n",
       "      <td>5</td>\n",
       "      <td>(-104.996, 39.745)</td>\n",
       "      <td>512</td>\n",
       "      <td>True</td>\n",
       "      <td>-104.996</td>\n",
       "      <td>39.745</td>\n",
       "    </tr>\n",
       "    <tr>\n",
       "      <th>2</th>\n",
       "      <td>8</td>\n",
       "      <td>(-104.999, 39.756)</td>\n",
       "      <td>404</td>\n",
       "      <td>True</td>\n",
       "      <td>-104.999</td>\n",
       "      <td>39.756</td>\n",
       "    </tr>\n",
       "    <tr>\n",
       "      <th>3</th>\n",
       "      <td>9</td>\n",
       "      <td>(-105.003, 39.756)</td>\n",
       "      <td>389</td>\n",
       "      <td>True</td>\n",
       "      <td>-105.003</td>\n",
       "      <td>39.756</td>\n",
       "    </tr>\n",
       "    <tr>\n",
       "      <th>4</th>\n",
       "      <td>11</td>\n",
       "      <td>(-104.989, 39.696)</td>\n",
       "      <td>376</td>\n",
       "      <td>True</td>\n",
       "      <td>-104.989</td>\n",
       "      <td>39.696</td>\n",
       "    </tr>\n",
       "  </tbody>\n",
       "</table>\n",
       "</div>"
      ],
      "text/plain": [
       "   Unnamed: 0            long_lat  population   geo     Long     Lat\n",
       "0           1  (-104.997, 39.746)         841  True -104.997  39.746\n",
       "1           5  (-104.996, 39.745)         512  True -104.996  39.745\n",
       "2           8  (-104.999, 39.756)         404  True -104.999  39.756\n",
       "3           9  (-105.003, 39.756)         389  True -105.003  39.756\n",
       "4          11  (-104.989, 39.696)         376  True -104.989  39.696"
      ]
     },
     "execution_count": 16,
     "metadata": {},
     "output_type": "execute_result"
    }
   ],
   "source": [
    "top.head()"
   ]
  },
  {
   "cell_type": "code",
   "execution_count": 17,
   "metadata": {},
   "outputs": [
    {
     "data": {
      "application/vnd.jupyter.widget-view+json": {
       "model_id": "4e7d134e18264760aad2fab7612ffa9e",
       "version_major": 2,
       "version_minor": 0
      },
      "text/plain": [
       "Figure(layout=FigureLayout(height='420px'))"
      ]
     },
     "metadata": {},
     "output_type": "display_data"
    }
   ],
   "source": [
    "locations_zoned = top[['Lat', 'Long']]\n",
    "weights_zoned = top['population']\n",
    "fig = gmaps.figure()\n",
    "fig.add_layer(gmaps.heatmap_layer(locations_zoned, weights=weights_zoned))\n",
    "fig"
   ]
  },
  {
   "cell_type": "code",
   "execution_count": 18,
   "metadata": {},
   "outputs": [],
   "source": [
    "top_unzoned = pd.read_csv('data/top_farmers_not_zoned.csv')"
   ]
  },
  {
   "cell_type": "code",
   "execution_count": 19,
   "metadata": {},
   "outputs": [
    {
     "data": {
      "text/html": [
       "<div>\n",
       "<style scoped>\n",
       "    .dataframe tbody tr th:only-of-type {\n",
       "        vertical-align: middle;\n",
       "    }\n",
       "\n",
       "    .dataframe tbody tr th {\n",
       "        vertical-align: top;\n",
       "    }\n",
       "\n",
       "    .dataframe thead th {\n",
       "        text-align: right;\n",
       "    }\n",
       "</style>\n",
       "<table border=\"1\" class=\"dataframe\">\n",
       "  <thead>\n",
       "    <tr style=\"text-align: right;\">\n",
       "      <th></th>\n",
       "      <th>Unnamed: 0</th>\n",
       "      <th>long_lat</th>\n",
       "      <th>population</th>\n",
       "      <th>geo</th>\n",
       "      <th>Long</th>\n",
       "      <th>Lat</th>\n",
       "    </tr>\n",
       "  </thead>\n",
       "  <tbody>\n",
       "    <tr>\n",
       "      <th>0</th>\n",
       "      <td>0</td>\n",
       "      <td>(-104.876, 39.704)</td>\n",
       "      <td>860</td>\n",
       "      <td>False</td>\n",
       "      <td>-104.876</td>\n",
       "      <td>39.704</td>\n",
       "    </tr>\n",
       "    <tr>\n",
       "      <th>1</th>\n",
       "      <td>2</td>\n",
       "      <td>(-104.911, 39.635)</td>\n",
       "      <td>708</td>\n",
       "      <td>False</td>\n",
       "      <td>-104.911</td>\n",
       "      <td>39.635</td>\n",
       "    </tr>\n",
       "    <tr>\n",
       "      <th>2</th>\n",
       "      <td>3</td>\n",
       "      <td>(-104.894, 39.629)</td>\n",
       "      <td>685</td>\n",
       "      <td>False</td>\n",
       "      <td>-104.894</td>\n",
       "      <td>39.629</td>\n",
       "    </tr>\n",
       "    <tr>\n",
       "      <th>3</th>\n",
       "      <td>4</td>\n",
       "      <td>(-105.08, 39.635)</td>\n",
       "      <td>655</td>\n",
       "      <td>False</td>\n",
       "      <td>-105.080</td>\n",
       "      <td>39.635</td>\n",
       "    </tr>\n",
       "    <tr>\n",
       "      <th>4</th>\n",
       "      <td>6</td>\n",
       "      <td>(-105.001, 39.755)</td>\n",
       "      <td>445</td>\n",
       "      <td>False</td>\n",
       "      <td>-105.001</td>\n",
       "      <td>39.755</td>\n",
       "    </tr>\n",
       "  </tbody>\n",
       "</table>\n",
       "</div>"
      ],
      "text/plain": [
       "   Unnamed: 0            long_lat  population    geo     Long     Lat\n",
       "0           0  (-104.876, 39.704)         860  False -104.876  39.704\n",
       "1           2  (-104.911, 39.635)         708  False -104.911  39.635\n",
       "2           3  (-104.894, 39.629)         685  False -104.894  39.629\n",
       "3           4   (-105.08, 39.635)         655  False -105.080  39.635\n",
       "4           6  (-105.001, 39.755)         445  False -105.001  39.755"
      ]
     },
     "execution_count": 19,
     "metadata": {},
     "output_type": "execute_result"
    }
   ],
   "source": [
    "top_unzoned.head()"
   ]
  },
  {
   "cell_type": "code",
   "execution_count": 20,
   "metadata": {},
   "outputs": [
    {
     "data": {
      "application/vnd.jupyter.widget-view+json": {
       "model_id": "309b9fd16d2b41dd86a874430dc4f465",
       "version_major": 2,
       "version_minor": 0
      },
      "text/plain": [
       "Figure(layout=FigureLayout(height='420px'))"
      ]
     },
     "metadata": {},
     "output_type": "display_data"
    }
   ],
   "source": [
    "locations_unzoned = top_unzoned[['Lat', 'Long']]\n",
    "weights_unzoned = top_unzoned['population']\n",
    "fig = gmaps.figure()\n",
    "fig.add_layer(gmaps.heatmap_layer(locations_unzoned, weights=weights_unzoned))\n",
    "fig"
   ]
  },
  {
   "cell_type": "code",
   "execution_count": 87,
   "metadata": {},
   "outputs": [],
   "source": [
    "parks = pd.read_csv('~/Downloads/parks.csv')"
   ]
  },
  {
   "cell_type": "code",
   "execution_count": 88,
   "metadata": {},
   "outputs": [
    {
     "data": {
      "text/html": [
       "<div>\n",
       "<style scoped>\n",
       "    .dataframe tbody tr th:only-of-type {\n",
       "        vertical-align: middle;\n",
       "    }\n",
       "\n",
       "    .dataframe tbody tr th {\n",
       "        vertical-align: top;\n",
       "    }\n",
       "\n",
       "    .dataframe thead th {\n",
       "        text-align: right;\n",
       "    }\n",
       "</style>\n",
       "<table border=\"1\" class=\"dataframe\">\n",
       "  <thead>\n",
       "    <tr style=\"text-align: right;\">\n",
       "      <th></th>\n",
       "      <th>LOCATION</th>\n",
       "      <th>FORMAL_NAME</th>\n",
       "      <th>LOC_CODE</th>\n",
       "      <th>PARK_TYPE</th>\n",
       "      <th>PARK_CLASS</th>\n",
       "      <th>GIS_ACRES</th>\n",
       "      <th>DESIGNATED</th>\n",
       "      <th>FIRST_AQ_DATE</th>\n",
       "      <th>MASTER_PLAN</th>\n",
       "      <th>MAINT_DIST</th>\n",
       "      <th>...</th>\n",
       "      <th>STATE</th>\n",
       "      <th>ZIP</th>\n",
       "      <th>LATITUDE</th>\n",
       "      <th>LONGITUDE</th>\n",
       "      <th>MARKETING_CODE</th>\n",
       "      <th>FACILITIES</th>\n",
       "      <th>DIAGRAM</th>\n",
       "      <th>PHOTO</th>\n",
       "      <th>PARCEL_MATCH</th>\n",
       "      <th>BND_QC</th>\n",
       "    </tr>\n",
       "  </thead>\n",
       "  <tbody>\n",
       "    <tr>\n",
       "      <th>0</th>\n",
       "      <td>Weir Gulch South</td>\n",
       "      <td>Weir Gulch Park - South</td>\n",
       "      <td>837</td>\n",
       "      <td>Park</td>\n",
       "      <td>Linear</td>\n",
       "      <td>10.509715</td>\n",
       "      <td>Partial</td>\n",
       "      <td>1960</td>\n",
       "      <td>2010</td>\n",
       "      <td>SW</td>\n",
       "      <td>...</td>\n",
       "      <td>CO</td>\n",
       "      <td>None</td>\n",
       "      <td>39.707758</td>\n",
       "      <td>-105.049778</td>\n",
       "      <td>PK</td>\n",
       "      <td>Bike/Pedestrian Path, Weir Gulch Trail, Open S...</td>\n",
       "      <td>ParkArt_Weir Gulch Park South.pdf</td>\n",
       "      <td>images/parks/no_imagerec.gif</td>\n",
       "      <td>No</td>\n",
       "      <td>2009-02-18 00:00:00</td>\n",
       "    </tr>\n",
       "    <tr>\n",
       "      <th>1</th>\n",
       "      <td>Aztlan</td>\n",
       "      <td>Aztlan Park</td>\n",
       "      <td>032</td>\n",
       "      <td>Park</td>\n",
       "      <td>Neighborhood</td>\n",
       "      <td>3.688487</td>\n",
       "      <td>Yes</td>\n",
       "      <td>1974</td>\n",
       "      <td>None</td>\n",
       "      <td>NW</td>\n",
       "      <td>...</td>\n",
       "      <td>CO</td>\n",
       "      <td>None</td>\n",
       "      <td>39.777565</td>\n",
       "      <td>-105.004748</td>\n",
       "      <td>PK</td>\n",
       "      <td>Recreation Center, Benches, Picnic Tables, Pla...</td>\n",
       "      <td>ParkArt_Aztlan Park.pdf</td>\n",
       "      <td>images/parks/atzlanpark.jpg</td>\n",
       "      <td>Yes</td>\n",
       "      <td>2008-11-20 00:00:00</td>\n",
       "    </tr>\n",
       "    <tr>\n",
       "      <th>2</th>\n",
       "      <td>Denver Botanic Gardens</td>\n",
       "      <td>Denver Botanic Gardens</td>\n",
       "      <td>356</td>\n",
       "      <td>Park</td>\n",
       "      <td>Special Use</td>\n",
       "      <td>22.751852</td>\n",
       "      <td>Partial - 1956</td>\n",
       "      <td>1890</td>\n",
       "      <td>2007</td>\n",
       "      <td>E</td>\n",
       "      <td>...</td>\n",
       "      <td>CO</td>\n",
       "      <td>None</td>\n",
       "      <td>39.732027</td>\n",
       "      <td>-104.961492</td>\n",
       "      <td>None</td>\n",
       "      <td>Gardens, Fountains, Paid Admission Required</td>\n",
       "      <td></td>\n",
       "      <td>images/parks/no_imagerec.gif</td>\n",
       "      <td>Yes</td>\n",
       "      <td>2009-09-16 00:00:00</td>\n",
       "    </tr>\n",
       "    <tr>\n",
       "      <th>3</th>\n",
       "      <td>Florida &amp; Raritan</td>\n",
       "      <td>Sanderson Gulch - Florida &amp; Raritan</td>\n",
       "      <td>851</td>\n",
       "      <td>Park</td>\n",
       "      <td>Linear</td>\n",
       "      <td>15.612426</td>\n",
       "      <td>Yes</td>\n",
       "      <td>1970</td>\n",
       "      <td>2010</td>\n",
       "      <td>SW</td>\n",
       "      <td>...</td>\n",
       "      <td>CO</td>\n",
       "      <td>None</td>\n",
       "      <td>39.688897</td>\n",
       "      <td>-105.012123</td>\n",
       "      <td>None</td>\n",
       "      <td>Bike/Pedestrian Path, Sanderson Gulch Trail, B...</td>\n",
       "      <td>ParkArt_Sanderson Gulch Open Space.pdf</td>\n",
       "      <td>images/parks/sandersongulchpark.jpg</td>\n",
       "      <td>Yes</td>\n",
       "      <td>2009-08-11 00:00:00</td>\n",
       "    </tr>\n",
       "    <tr>\n",
       "      <th>4</th>\n",
       "      <td>Lowry Open Space</td>\n",
       "      <td>Lowry Open Space</td>\n",
       "      <td>L28</td>\n",
       "      <td>Open Space</td>\n",
       "      <td>Open Space</td>\n",
       "      <td>56.553171</td>\n",
       "      <td>Partial - 2014 May</td>\n",
       "      <td>2013</td>\n",
       "      <td>2000</td>\n",
       "      <td>NE</td>\n",
       "      <td>...</td>\n",
       "      <td>CO</td>\n",
       "      <td>None</td>\n",
       "      <td>39.719276</td>\n",
       "      <td>-104.880825</td>\n",
       "      <td>PK</td>\n",
       "      <td>Dog Park, Natural Areas, Bike/Pedestrian Path</td>\n",
       "      <td>ParkArt_Lowry Open Space.pdf</td>\n",
       "      <td>None</td>\n",
       "      <td>No</td>\n",
       "      <td>2014-03-06 00:00:00</td>\n",
       "    </tr>\n",
       "  </tbody>\n",
       "</table>\n",
       "<p>5 rows × 27 columns</p>\n",
       "</div>"
      ],
      "text/plain": [
       "                 LOCATION                          FORMAL_NAME LOC_CODE  \\\n",
       "0        Weir Gulch South              Weir Gulch Park - South      837   \n",
       "1                  Aztlan                          Aztlan Park      032   \n",
       "2  Denver Botanic Gardens               Denver Botanic Gardens      356   \n",
       "3       Florida & Raritan  Sanderson Gulch - Florida & Raritan      851   \n",
       "4        Lowry Open Space                     Lowry Open Space      L28   \n",
       "\n",
       "    PARK_TYPE    PARK_CLASS  GIS_ACRES          DESIGNATED FIRST_AQ_DATE  \\\n",
       "0        Park        Linear  10.509715             Partial          1960   \n",
       "1        Park  Neighborhood   3.688487                 Yes          1974   \n",
       "2        Park   Special Use  22.751852      Partial - 1956          1890   \n",
       "3        Park        Linear  15.612426                 Yes          1970   \n",
       "4  Open Space    Open Space  56.553171  Partial - 2014 May          2013   \n",
       "\n",
       "  MASTER_PLAN MAINT_DIST         ...          STATE   ZIP   LATITUDE  \\\n",
       "0        2010         SW         ...             CO  None  39.707758   \n",
       "1        None         NW         ...             CO  None  39.777565   \n",
       "2        2007          E         ...             CO  None  39.732027   \n",
       "3        2010         SW         ...             CO  None  39.688897   \n",
       "4        2000         NE         ...             CO  None  39.719276   \n",
       "\n",
       "    LONGITUDE MARKETING_CODE  \\\n",
       "0 -105.049778             PK   \n",
       "1 -105.004748             PK   \n",
       "2 -104.961492           None   \n",
       "3 -105.012123           None   \n",
       "4 -104.880825             PK   \n",
       "\n",
       "                                          FACILITIES  \\\n",
       "0  Bike/Pedestrian Path, Weir Gulch Trail, Open S...   \n",
       "1  Recreation Center, Benches, Picnic Tables, Pla...   \n",
       "2        Gardens, Fountains, Paid Admission Required   \n",
       "3  Bike/Pedestrian Path, Sanderson Gulch Trail, B...   \n",
       "4      Dog Park, Natural Areas, Bike/Pedestrian Path   \n",
       "\n",
       "                                  DIAGRAM  \\\n",
       "0       ParkArt_Weir Gulch Park South.pdf   \n",
       "1                 ParkArt_Aztlan Park.pdf   \n",
       "2                                           \n",
       "3  ParkArt_Sanderson Gulch Open Space.pdf   \n",
       "4            ParkArt_Lowry Open Space.pdf   \n",
       "\n",
       "                                 PHOTO PARCEL_MATCH               BND_QC  \n",
       "0         images/parks/no_imagerec.gif           No  2009-02-18 00:00:00  \n",
       "1          images/parks/atzlanpark.jpg          Yes  2008-11-20 00:00:00  \n",
       "2         images/parks/no_imagerec.gif          Yes  2009-09-16 00:00:00  \n",
       "3  images/parks/sandersongulchpark.jpg          Yes  2009-08-11 00:00:00  \n",
       "4                                 None           No  2014-03-06 00:00:00  \n",
       "\n",
       "[5 rows x 27 columns]"
      ]
     },
     "execution_count": 88,
     "metadata": {},
     "output_type": "execute_result"
    }
   ],
   "source": [
    "parks.head()"
   ]
  },
  {
   "cell_type": "code",
   "execution_count": 89,
   "metadata": {},
   "outputs": [
    {
     "name": "stdout",
     "output_type": "stream",
     "text": [
      "<class 'pandas.core.frame.DataFrame'>\n",
      "RangeIndex: 336 entries, 0 to 335\n",
      "Data columns (total 27 columns):\n",
      "LOCATION          336 non-null object\n",
      "FORMAL_NAME       336 non-null object\n",
      "LOC_CODE          336 non-null object\n",
      "PARK_TYPE         336 non-null object\n",
      "PARK_CLASS        336 non-null object\n",
      "GIS_ACRES         336 non-null float64\n",
      "DESIGNATED        336 non-null object\n",
      "FIRST_AQ_DATE     336 non-null object\n",
      "MASTER_PLAN       332 non-null object\n",
      "MAINT_DIST        336 non-null object\n",
      "COUNCIL_DIST      336 non-null object\n",
      "POLICE_DIST       336 non-null object\n",
      "CROSS_STREETS     336 non-null object\n",
      "ADDRESS_ID        336 non-null object\n",
      "ADDRESS_LINE1     336 non-null object\n",
      "ADDRESS_LINE2     336 non-null object\n",
      "CITY              336 non-null object\n",
      "STATE             336 non-null object\n",
      "ZIP               336 non-null object\n",
      "LATITUDE          336 non-null float64\n",
      "LONGITUDE         336 non-null float64\n",
      "MARKETING_CODE    336 non-null object\n",
      "FACILITIES        336 non-null object\n",
      "DIAGRAM           336 non-null object\n",
      "PHOTO             336 non-null object\n",
      "PARCEL_MATCH      336 non-null object\n",
      "BND_QC            336 non-null object\n",
      "dtypes: float64(3), object(24)\n",
      "memory usage: 71.0+ KB\n"
     ]
    }
   ],
   "source": [
    "parks.info()"
   ]
  },
  {
   "cell_type": "code",
   "execution_count": 90,
   "metadata": {},
   "outputs": [
    {
     "data": {
      "application/vnd.jupyter.widget-view+json": {
       "model_id": "9bb10ab8dc3243d4862610b8c3870e00",
       "version_major": 2,
       "version_minor": 0
      },
      "text/plain": [
       "Figure(layout=FigureLayout(height='420px'))"
      ]
     },
     "metadata": {},
     "output_type": "display_data"
    }
   ],
   "source": [
    "parks_coord = parks[['LATITUDE', 'LONGITUDE']]\n",
    "parks_fig = gmaps.symbol_layer(parks_coord, fill_color='rgba(0, 150, 0, 0.4)',\n",
    "    stroke_color='rgba(0, 150, 0, 0.4)', scale=2\n",
    ")\n",
    "fig = gmaps.figure()\n",
    "fig.add_layer(parks_fig)\n",
    "fig\n"
   ]
  },
  {
   "cell_type": "code",
   "execution_count": null,
   "metadata": {},
   "outputs": [],
   "source": []
  }
 ],
 "metadata": {
  "kernelspec": {
   "display_name": "Python 3",
   "language": "python",
   "name": "python3"
  },
  "language_info": {
   "codemirror_mode": {
    "name": "ipython",
    "version": 3
   },
   "file_extension": ".py",
   "mimetype": "text/x-python",
   "name": "python",
   "nbconvert_exporter": "python",
   "pygments_lexer": "ipython3",
   "version": "3.6.6"
  }
 },
 "nbformat": 4,
 "nbformat_minor": 2
}
